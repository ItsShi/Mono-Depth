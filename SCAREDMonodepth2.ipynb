{
  "nbformat": 4,
  "nbformat_minor": 0,
  "metadata": {
    "colab": {
      "provenance": [],
      "machine_shape": "hm",
      "include_colab_link": true
    },
    "kernelspec": {
      "name": "python3",
      "display_name": "Python 3"
    },
    "language_info": {
      "name": "python"
    },
    "gpuClass": "standard",
    "accelerator": "GPU",
    "widgets": {
      "application/vnd.jupyter.widget-state+json": {
        "bf9477e2e2d74a3186748444c98e4237": {
          "model_module": "@jupyter-widgets/controls",
          "model_name": "HBoxModel",
          "model_module_version": "1.5.0",
          "state": {
            "_dom_classes": [],
            "_model_module": "@jupyter-widgets/controls",
            "_model_module_version": "1.5.0",
            "_model_name": "HBoxModel",
            "_view_count": null,
            "_view_module": "@jupyter-widgets/controls",
            "_view_module_version": "1.5.0",
            "_view_name": "HBoxView",
            "box_style": "",
            "children": [
              "IPY_MODEL_d7db519a095b491b81daa28b119ebd8a",
              "IPY_MODEL_d3ae14dfa3604378a2b890fe52c77e87",
              "IPY_MODEL_1695760ef18d43c3b15b565265f8ffbc"
            ],
            "layout": "IPY_MODEL_9b824e2c8d6348299601c0d49275f90c"
          }
        },
        "d7db519a095b491b81daa28b119ebd8a": {
          "model_module": "@jupyter-widgets/controls",
          "model_name": "HTMLModel",
          "model_module_version": "1.5.0",
          "state": {
            "_dom_classes": [],
            "_model_module": "@jupyter-widgets/controls",
            "_model_module_version": "1.5.0",
            "_model_name": "HTMLModel",
            "_view_count": null,
            "_view_module": "@jupyter-widgets/controls",
            "_view_module_version": "1.5.0",
            "_view_name": "HTMLView",
            "description": "",
            "description_tooltip": null,
            "layout": "IPY_MODEL_05f7273d311c47dfbae65bacdfc7a94b",
            "placeholder": "​",
            "style": "IPY_MODEL_b0b1814c02de41d3bc80342da3274252",
            "value": "100%"
          }
        },
        "d3ae14dfa3604378a2b890fe52c77e87": {
          "model_module": "@jupyter-widgets/controls",
          "model_name": "FloatProgressModel",
          "model_module_version": "1.5.0",
          "state": {
            "_dom_classes": [],
            "_model_module": "@jupyter-widgets/controls",
            "_model_module_version": "1.5.0",
            "_model_name": "FloatProgressModel",
            "_view_count": null,
            "_view_module": "@jupyter-widgets/controls",
            "_view_module_version": "1.5.0",
            "_view_name": "ProgressView",
            "bar_style": "success",
            "description": "",
            "description_tooltip": null,
            "layout": "IPY_MODEL_488ed06fd3584ec69ff0ee4d27f39237",
            "max": 46830571,
            "min": 0,
            "orientation": "horizontal",
            "style": "IPY_MODEL_85119441f88c49d3ab3b7e7c26994f44",
            "value": 46830571
          }
        },
        "1695760ef18d43c3b15b565265f8ffbc": {
          "model_module": "@jupyter-widgets/controls",
          "model_name": "HTMLModel",
          "model_module_version": "1.5.0",
          "state": {
            "_dom_classes": [],
            "_model_module": "@jupyter-widgets/controls",
            "_model_module_version": "1.5.0",
            "_model_name": "HTMLModel",
            "_view_count": null,
            "_view_module": "@jupyter-widgets/controls",
            "_view_module_version": "1.5.0",
            "_view_name": "HTMLView",
            "description": "",
            "description_tooltip": null,
            "layout": "IPY_MODEL_d6cdb4430a5d47c5bb23d3fa2cfca8aa",
            "placeholder": "​",
            "style": "IPY_MODEL_85c032fee0d14a52b0de31457016650c",
            "value": " 44.7M/44.7M [00:00&lt;00:00, 80.8MB/s]"
          }
        },
        "9b824e2c8d6348299601c0d49275f90c": {
          "model_module": "@jupyter-widgets/base",
          "model_name": "LayoutModel",
          "model_module_version": "1.2.0",
          "state": {
            "_model_module": "@jupyter-widgets/base",
            "_model_module_version": "1.2.0",
            "_model_name": "LayoutModel",
            "_view_count": null,
            "_view_module": "@jupyter-widgets/base",
            "_view_module_version": "1.2.0",
            "_view_name": "LayoutView",
            "align_content": null,
            "align_items": null,
            "align_self": null,
            "border": null,
            "bottom": null,
            "display": null,
            "flex": null,
            "flex_flow": null,
            "grid_area": null,
            "grid_auto_columns": null,
            "grid_auto_flow": null,
            "grid_auto_rows": null,
            "grid_column": null,
            "grid_gap": null,
            "grid_row": null,
            "grid_template_areas": null,
            "grid_template_columns": null,
            "grid_template_rows": null,
            "height": null,
            "justify_content": null,
            "justify_items": null,
            "left": null,
            "margin": null,
            "max_height": null,
            "max_width": null,
            "min_height": null,
            "min_width": null,
            "object_fit": null,
            "object_position": null,
            "order": null,
            "overflow": null,
            "overflow_x": null,
            "overflow_y": null,
            "padding": null,
            "right": null,
            "top": null,
            "visibility": null,
            "width": null
          }
        },
        "05f7273d311c47dfbae65bacdfc7a94b": {
          "model_module": "@jupyter-widgets/base",
          "model_name": "LayoutModel",
          "model_module_version": "1.2.0",
          "state": {
            "_model_module": "@jupyter-widgets/base",
            "_model_module_version": "1.2.0",
            "_model_name": "LayoutModel",
            "_view_count": null,
            "_view_module": "@jupyter-widgets/base",
            "_view_module_version": "1.2.0",
            "_view_name": "LayoutView",
            "align_content": null,
            "align_items": null,
            "align_self": null,
            "border": null,
            "bottom": null,
            "display": null,
            "flex": null,
            "flex_flow": null,
            "grid_area": null,
            "grid_auto_columns": null,
            "grid_auto_flow": null,
            "grid_auto_rows": null,
            "grid_column": null,
            "grid_gap": null,
            "grid_row": null,
            "grid_template_areas": null,
            "grid_template_columns": null,
            "grid_template_rows": null,
            "height": null,
            "justify_content": null,
            "justify_items": null,
            "left": null,
            "margin": null,
            "max_height": null,
            "max_width": null,
            "min_height": null,
            "min_width": null,
            "object_fit": null,
            "object_position": null,
            "order": null,
            "overflow": null,
            "overflow_x": null,
            "overflow_y": null,
            "padding": null,
            "right": null,
            "top": null,
            "visibility": null,
            "width": null
          }
        },
        "b0b1814c02de41d3bc80342da3274252": {
          "model_module": "@jupyter-widgets/controls",
          "model_name": "DescriptionStyleModel",
          "model_module_version": "1.5.0",
          "state": {
            "_model_module": "@jupyter-widgets/controls",
            "_model_module_version": "1.5.0",
            "_model_name": "DescriptionStyleModel",
            "_view_count": null,
            "_view_module": "@jupyter-widgets/base",
            "_view_module_version": "1.2.0",
            "_view_name": "StyleView",
            "description_width": ""
          }
        },
        "488ed06fd3584ec69ff0ee4d27f39237": {
          "model_module": "@jupyter-widgets/base",
          "model_name": "LayoutModel",
          "model_module_version": "1.2.0",
          "state": {
            "_model_module": "@jupyter-widgets/base",
            "_model_module_version": "1.2.0",
            "_model_name": "LayoutModel",
            "_view_count": null,
            "_view_module": "@jupyter-widgets/base",
            "_view_module_version": "1.2.0",
            "_view_name": "LayoutView",
            "align_content": null,
            "align_items": null,
            "align_self": null,
            "border": null,
            "bottom": null,
            "display": null,
            "flex": null,
            "flex_flow": null,
            "grid_area": null,
            "grid_auto_columns": null,
            "grid_auto_flow": null,
            "grid_auto_rows": null,
            "grid_column": null,
            "grid_gap": null,
            "grid_row": null,
            "grid_template_areas": null,
            "grid_template_columns": null,
            "grid_template_rows": null,
            "height": null,
            "justify_content": null,
            "justify_items": null,
            "left": null,
            "margin": null,
            "max_height": null,
            "max_width": null,
            "min_height": null,
            "min_width": null,
            "object_fit": null,
            "object_position": null,
            "order": null,
            "overflow": null,
            "overflow_x": null,
            "overflow_y": null,
            "padding": null,
            "right": null,
            "top": null,
            "visibility": null,
            "width": null
          }
        },
        "85119441f88c49d3ab3b7e7c26994f44": {
          "model_module": "@jupyter-widgets/controls",
          "model_name": "ProgressStyleModel",
          "model_module_version": "1.5.0",
          "state": {
            "_model_module": "@jupyter-widgets/controls",
            "_model_module_version": "1.5.0",
            "_model_name": "ProgressStyleModel",
            "_view_count": null,
            "_view_module": "@jupyter-widgets/base",
            "_view_module_version": "1.2.0",
            "_view_name": "StyleView",
            "bar_color": null,
            "description_width": ""
          }
        },
        "d6cdb4430a5d47c5bb23d3fa2cfca8aa": {
          "model_module": "@jupyter-widgets/base",
          "model_name": "LayoutModel",
          "model_module_version": "1.2.0",
          "state": {
            "_model_module": "@jupyter-widgets/base",
            "_model_module_version": "1.2.0",
            "_model_name": "LayoutModel",
            "_view_count": null,
            "_view_module": "@jupyter-widgets/base",
            "_view_module_version": "1.2.0",
            "_view_name": "LayoutView",
            "align_content": null,
            "align_items": null,
            "align_self": null,
            "border": null,
            "bottom": null,
            "display": null,
            "flex": null,
            "flex_flow": null,
            "grid_area": null,
            "grid_auto_columns": null,
            "grid_auto_flow": null,
            "grid_auto_rows": null,
            "grid_column": null,
            "grid_gap": null,
            "grid_row": null,
            "grid_template_areas": null,
            "grid_template_columns": null,
            "grid_template_rows": null,
            "height": null,
            "justify_content": null,
            "justify_items": null,
            "left": null,
            "margin": null,
            "max_height": null,
            "max_width": null,
            "min_height": null,
            "min_width": null,
            "object_fit": null,
            "object_position": null,
            "order": null,
            "overflow": null,
            "overflow_x": null,
            "overflow_y": null,
            "padding": null,
            "right": null,
            "top": null,
            "visibility": null,
            "width": null
          }
        },
        "85c032fee0d14a52b0de31457016650c": {
          "model_module": "@jupyter-widgets/controls",
          "model_name": "DescriptionStyleModel",
          "model_module_version": "1.5.0",
          "state": {
            "_model_module": "@jupyter-widgets/controls",
            "_model_module_version": "1.5.0",
            "_model_name": "DescriptionStyleModel",
            "_view_count": null,
            "_view_module": "@jupyter-widgets/base",
            "_view_module_version": "1.2.0",
            "_view_name": "StyleView",
            "description_width": ""
          }
        }
      }
    }
  },
  "cells": [
    {
      "cell_type": "markdown",
      "metadata": {
        "id": "view-in-github",
        "colab_type": "text"
      },
      "source": [
        "<a href=\"https://colab.research.google.com/github/ItsShi/Mono-Depth/blob/main/SCAREDMonodepth2.ipynb\" target=\"_parent\"><img src=\"https://colab.research.google.com/assets/colab-badge.svg\" alt=\"Open In Colab\"/></a>"
      ]
    },
    {
      "cell_type": "markdown",
      "source": [
        "#Installation"
      ],
      "metadata": {
        "id": "4Yih7lYI3B6C"
      }
    },
    {
      "cell_type": "code",
      "source": [
        "!pip -q install torchmetrics\n",
        "#!pip install pytorch-ignite"
      ],
      "metadata": {
        "id": "zEkm5X6w3BlD",
        "outputId": "dbe154dc-fd56-4402-8bc4-bb6508678fa4",
        "colab": {
          "base_uri": "https://localhost:8080/"
        }
      },
      "execution_count": 1,
      "outputs": [
        {
          "output_type": "stream",
          "name": "stdout",
          "text": [
            "\u001b[?25l\r\u001b[K     |▋                               | 10 kB 29.1 MB/s eta 0:00:01\r\u001b[K     |█▎                              | 20 kB 13.5 MB/s eta 0:00:01\r\u001b[K     |█▉                              | 30 kB 18.1 MB/s eta 0:00:01\r\u001b[K     |██▌                             | 40 kB 13.0 MB/s eta 0:00:01\r\u001b[K     |███                             | 51 kB 11.0 MB/s eta 0:00:01\r\u001b[K     |███▊                            | 61 kB 12.6 MB/s eta 0:00:01\r\u001b[K     |████▎                           | 71 kB 12.1 MB/s eta 0:00:01\r\u001b[K     |█████                           | 81 kB 12.1 MB/s eta 0:00:01\r\u001b[K     |█████▋                          | 92 kB 13.3 MB/s eta 0:00:01\r\u001b[K     |██████▏                         | 102 kB 13.1 MB/s eta 0:00:01\r\u001b[K     |██████▉                         | 112 kB 13.1 MB/s eta 0:00:01\r\u001b[K     |███████▍                        | 122 kB 13.1 MB/s eta 0:00:01\r\u001b[K     |████████                        | 133 kB 13.1 MB/s eta 0:00:01\r\u001b[K     |████████▋                       | 143 kB 13.1 MB/s eta 0:00:01\r\u001b[K     |█████████▎                      | 153 kB 13.1 MB/s eta 0:00:01\r\u001b[K     |██████████                      | 163 kB 13.1 MB/s eta 0:00:01\r\u001b[K     |██████████▌                     | 174 kB 13.1 MB/s eta 0:00:01\r\u001b[K     |███████████▏                    | 184 kB 13.1 MB/s eta 0:00:01\r\u001b[K     |███████████▊                    | 194 kB 13.1 MB/s eta 0:00:01\r\u001b[K     |████████████▍                   | 204 kB 13.1 MB/s eta 0:00:01\r\u001b[K     |█████████████                   | 215 kB 13.1 MB/s eta 0:00:01\r\u001b[K     |█████████████▋                  | 225 kB 13.1 MB/s eta 0:00:01\r\u001b[K     |██████████████▎                 | 235 kB 13.1 MB/s eta 0:00:01\r\u001b[K     |██████████████▉                 | 245 kB 13.1 MB/s eta 0:00:01\r\u001b[K     |███████████████▌                | 256 kB 13.1 MB/s eta 0:00:01\r\u001b[K     |████████████████                | 266 kB 13.1 MB/s eta 0:00:01\r\u001b[K     |████████████████▊               | 276 kB 13.1 MB/s eta 0:00:01\r\u001b[K     |█████████████████▎              | 286 kB 13.1 MB/s eta 0:00:01\r\u001b[K     |██████████████████              | 296 kB 13.1 MB/s eta 0:00:01\r\u001b[K     |██████████████████▋             | 307 kB 13.1 MB/s eta 0:00:01\r\u001b[K     |███████████████████▏            | 317 kB 13.1 MB/s eta 0:00:01\r\u001b[K     |███████████████████▉            | 327 kB 13.1 MB/s eta 0:00:01\r\u001b[K     |████████████████████▍           | 337 kB 13.1 MB/s eta 0:00:01\r\u001b[K     |█████████████████████           | 348 kB 13.1 MB/s eta 0:00:01\r\u001b[K     |█████████████████████▋          | 358 kB 13.1 MB/s eta 0:00:01\r\u001b[K     |██████████████████████▎         | 368 kB 13.1 MB/s eta 0:00:01\r\u001b[K     |██████████████████████▉         | 378 kB 13.1 MB/s eta 0:00:01\r\u001b[K     |███████████████████████▌        | 389 kB 13.1 MB/s eta 0:00:01\r\u001b[K     |████████████████████████▏       | 399 kB 13.1 MB/s eta 0:00:01\r\u001b[K     |████████████████████████▊       | 409 kB 13.1 MB/s eta 0:00:01\r\u001b[K     |█████████████████████████▍      | 419 kB 13.1 MB/s eta 0:00:01\r\u001b[K     |██████████████████████████      | 430 kB 13.1 MB/s eta 0:00:01\r\u001b[K     |██████████████████████████▋     | 440 kB 13.1 MB/s eta 0:00:01\r\u001b[K     |███████████████████████████▏    | 450 kB 13.1 MB/s eta 0:00:01\r\u001b[K     |███████████████████████████▉    | 460 kB 13.1 MB/s eta 0:00:01\r\u001b[K     |████████████████████████████▌   | 471 kB 13.1 MB/s eta 0:00:01\r\u001b[K     |█████████████████████████████   | 481 kB 13.1 MB/s eta 0:00:01\r\u001b[K     |█████████████████████████████▊  | 491 kB 13.1 MB/s eta 0:00:01\r\u001b[K     |██████████████████████████████▎ | 501 kB 13.1 MB/s eta 0:00:01\r\u001b[K     |███████████████████████████████ | 512 kB 13.1 MB/s eta 0:00:01\r\u001b[K     |███████████████████████████████▌| 522 kB 13.1 MB/s eta 0:00:01\r\u001b[K     |████████████████████████████████| 529 kB 13.1 MB/s \n",
            "\u001b[?25h"
          ]
        }
      ]
    },
    {
      "cell_type": "markdown",
      "source": [
        "#Download Data"
      ],
      "metadata": {
        "id": "Z2O4LmCr3KSE"
      }
    },
    {
      "cell_type": "code",
      "source": [
        "# import gdown\n",
        "# url = 'https://drive.google.com/uc?id=1LX26iq2qBjvxnbRicXPXidNKclWtQJ2E'\n",
        "# gdown.download(url,'SCARED.zip',quiet=True) \n",
        "# import os\n",
        "# if not os.path.exists('/content/SCARED/'):\n",
        "#   !unzip -q SCARED.zip \n",
        "\n",
        "from google.colab import drive\n",
        "drive.mount('/content/drive')\n",
        "!unzip -q drive/MyDrive/SCARED.zip"
      ],
      "metadata": {
        "id": "YmiPUa8N3Tl0",
        "colab": {
          "base_uri": "https://localhost:8080/"
        },
        "outputId": "eaf5c917-55d5-4e4a-9069-4e915bec0332"
      },
      "execution_count": 2,
      "outputs": [
        {
          "output_type": "stream",
          "name": "stdout",
          "text": [
            "Mounted at /content/drive\n"
          ]
        }
      ]
    },
    {
      "cell_type": "code",
      "source": [
        "import tarfile\n",
        "import re\n",
        "from collections import OrderedDict\n",
        "from tqdm import tqdm\n",
        "import json\n",
        "import numpy as np\n",
        "import gdown\n",
        "json_tar_gz_url = 'https://drive.google.com/uc?id=1rrswaVdzir4feGNvDmvW56iql-L0saZL'\n",
        "gdown.download(json_tar_gz_url,'d3k1_json',quiet=True) \n",
        "\n",
        "poses= []\n",
        "with tarfile.open('d3k1_json', \"r:gz\") as frame_data:\n",
        "  samples = frame_data.getmembers()\n",
        "  for sample in tqdm(samples, desc=\"loading pose data\", leave=False):\n",
        "      with frame_data.extractfile(sample) as sample_json:\n",
        "          pose = np.array(json.loads(sample_json.read())[\"camera-pose\"])\n",
        "          poses.append(pose) \n",
        "print(len(poses))\n",
        "print(pose)"
      ],
      "metadata": {
        "id": "a3maMuEmf2ua",
        "colab": {
          "base_uri": "https://localhost:8080/"
        },
        "outputId": "c7f6e4ec-b8a0-4555-f9ab-61eca548602f"
      },
      "execution_count": 3,
      "outputs": [
        {
          "output_type": "stream",
          "name": "stderr",
          "text": [
            "                                                          "
          ]
        },
        {
          "output_type": "stream",
          "name": "stdout",
          "text": [
            "329\n",
            "[[ 6.79565802e-01 -7.31499864e-01 -5.56609482e-02 -5.61911743e+00]\n",
            " [ 7.32502844e-01  6.80755367e-01 -3.39599501e-03 -3.42786864e-01]\n",
            " [ 4.03758211e-02 -3.84639001e-02  9.98443636e-01 -3.27258599e+01]\n",
            " [ 0.00000000e+00  0.00000000e+00  0.00000000e+00  1.00000000e+00]]\n"
          ]
        },
        {
          "output_type": "stream",
          "name": "stderr",
          "text": [
            "\r"
          ]
        }
      ]
    },
    {
      "cell_type": "markdown",
      "source": [
        "#Prepare Dataloader"
      ],
      "metadata": {
        "id": "p0RaKAfJ3Z27"
      }
    },
    {
      "cell_type": "code",
      "source": [
        "from glob import glob\n",
        "from PIL import Image\n",
        "import numpy as np\n",
        "import torchvision.transforms as transforms\n",
        "from torch.utils.data import Dataset, DataLoader\n",
        "import matplotlib.pyplot as plt\n",
        "import tifffile\n",
        "import cv2\n",
        "import os\n",
        "\n",
        "os.chdir('/content')\n",
        "class MyDataset(Dataset):\n",
        "    def __init__(self, path_depth=None, transform=None):\n",
        "        self.path_depth = path_depth\n",
        "        self.transform = transform\n",
        "\n",
        "    def __len__(self):\n",
        "      return len(self.path_depth)   \n",
        "\n",
        "    def __getitem__(self, i):\n",
        "        depth = tifffile.imread(self.path_depth[i])[:,:,2]\n",
        "        depth = np.nan_to_num(depth, posinf=0, neginf=0)\n",
        "        depth = cv2.applyColorMap(cv2.convertScaleAbs(depth, alpha=2.5), cv2.COLORMAP_JET)\n",
        "        depth = Image.fromarray(depth).convert('L')\n",
        "        path_ = self.path_depth[i]\n",
        "        path_ = path_.replace('left', 'Left')\n",
        "        path_ = path_.replace('right', 'Right')\n",
        "        img = Image.open(path_[:-14] + 'Image.png').convert('RGB')\n",
        "        if self.transform:\n",
        "            img, depth = self.transform(img), self.transform(depth)\n",
        "        return img, depth\n",
        "\n",
        "transform_all = transforms.Compose([\n",
        "    transforms.Resize((256, 320)),\n",
        "    transforms.ToTensor(),\n",
        "])\n",
        "\n",
        "path_depth_all = glob('SCARED/*.tiff')\n",
        "path_depth_train = path_depth_all[:50]\n",
        "path_depth_valid = path_depth_all[50:]\n",
        "print(len(path_depth_all),len(path_depth_train),len(path_depth_valid))\n",
        "\n",
        "dataset_train = MyDataset(path_depth=path_depth_train, transform=transform_all)\n",
        "dataset_valid = MyDataset(path_depth=path_depth_valid, transform=transform_all)\n",
        "plt.subplot(121), plt.imshow(dataset_train[0][0].permute(1,2,0))\n",
        "plt.subplot(122), plt.imshow(dataset_train[0][1][0], cmap='gray')\n",
        "print(dataset_train[0][0].shape, dataset_train[0][1][0].shape, dataset_train[0][1].min(), dataset_train[0][1].max())\n",
        "\n",
        "train_loader = DataLoader(dataset_train, batch_size=128, shuffle=True, num_workers=2)\n",
        "valid_loader = DataLoader(dataset_valid, batch_size=128, shuffle=False, num_workers=2)"
      ],
      "metadata": {
        "colab": {
          "base_uri": "https://localhost:8080/",
          "height": 209
        },
        "id": "vhyN0pUl3nUw",
        "outputId": "8aa4543a-90f0-4da2-9b62-b9b202db4a43"
      },
      "execution_count": 18,
      "outputs": [
        {
          "output_type": "stream",
          "name": "stdout",
          "text": [
            "70 50 20\n",
            "torch.Size([3, 256, 320]) torch.Size([256, 320]) tensor(0.0588) tensor(0.8471)\n"
          ]
        },
        {
          "output_type": "display_data",
          "data": {
            "text/plain": [
              "<Figure size 432x288 with 2 Axes>"
            ],
            "image/png": "[encoded data removed]"
          },
          "metadata": {
            "needs_background": "light"
          }
        }
      ]
    },
    {
      "cell_type": "markdown",
      "source": [
        "#Arguments"
      ],
      "metadata": {
        "id": "OxU1220z_gNw"
      }
    },
    {
      "cell_type": "code",
      "source": [
        "import torch\n",
        "from torch.utils.data import Dataset, DataLoader\n",
        "import torchvision.transforms as transforms\n",
        "from PIL import Image\n",
        "import os\n",
        "import sys\n",
        "import argparse\n",
        "import numpy as np\n",
        "import matplotlib.pyplot as plt\n",
        "\n",
        "def seed_everything(seed=42):\n",
        "    torch.cuda.manual_seed_all(seed)\n",
        "    np.random.seed(seed)\n",
        "    torch.backends.cudnn.deterministic = True\n",
        "    torch.backends.cudnn.benchmark = False\n",
        "\n",
        "def get_args():\n",
        "    parser = argparse.ArgumentParser(description='Kitti Interpolation Training')\n",
        "    parser.add_argument('--lr', default=1e-3, type=float, help='learning rate')\n",
        "    parser.add_argument('--batch_size', default=64, type=int, help='batch size')\n",
        "    parser.add_argument('--valid_batch_size', default=128, type=int, help='batch size')\n",
        "    parser.add_argument('--max_epochs', default=120, type=int, help='epoch number')\n",
        "    parser.add_argument('--ckpt', type=str, default='best_model.pth.tar', help='total gpu')\n",
        "    parser.add_argument('--criterion', type=str, default='bce', help='total gpu')\n",
        "\n",
        "    if 'ipykernel' in sys.modules:\n",
        "        args = parser.parse_args([])\n",
        "    else:\n",
        "        args = parser.parse_args()\n",
        "\n",
        "    return args"
      ],
      "metadata": {
        "id": "R0SOdOdT_iFZ"
      },
      "execution_count": 5,
      "outputs": []
    },
    {
      "cell_type": "markdown",
      "source": [
        "#Initialise pretrained model"
      ],
      "metadata": {
        "id": "CypZU2K_Akug"
      }
    },
    {
      "cell_type": "code",
      "source": [
        "!git clone https://github.com/nianticlabs/monodepth2.git\n",
        "#os.chdir('monodepth2')\n",
        "%cd monodepth2\n",
        "import networks\n",
        "from utils import download_model_if_doesnt_exist\n",
        "model_name = \"mono_640x192\"\n",
        "# model_name = \"stereo_640x192\"\n",
        "# model_name = 'mono+stereo_640x192'\n",
        "\n",
        "# model_name = 'mono_1024x320'\n",
        "# model_name = 'stereo_1024x320'\n",
        "# model_name = 'mono+stereo_1024x320'\n",
        "\n",
        "device = 'cuda' if torch.cuda.is_available() else 'cpu'\n",
        "download_model_if_doesnt_exist(model_name)\n",
        "encoder_path = os.path.join(\"models\", model_name, \"encoder.pth\")\n",
        "depth_decoder_path = os.path.join(\"models\", model_name, \"depth.pth\")\n",
        "pose_encoder_path = os.path.join(\"models\", model_name, \"pose_encoder.pth\")\n",
        "pose_decoder_path = os.path.join(\"models\", model_name, \"pose.pth\")\n",
        "\n",
        "# LOADING PRETRAINED MODEL\n",
        "encoder = networks.ResnetEncoder(18, False)\n",
        "depth_decoder = networks.DepthDecoder(num_ch_enc=encoder.num_ch_enc, scales=range(4))\n",
        "pose_encoder = networks.ResnetEncoder(18, \"pretrained\", 2)\n",
        "pose_decoder = networks.PoseDecoder(encoder.num_ch_enc,1,2)#num_input_features, num_frames_to_predict_for\n",
        "\n",
        "loaded_dict_enc = torch.load(encoder_path, map_location='cpu')\n",
        "filtered_dict_enc = {k: v for k, v in loaded_dict_enc.items() if k in encoder.state_dict()}\n",
        "encoder.load_state_dict(filtered_dict_enc)\n",
        "\n",
        "loaded_dict = torch.load(depth_decoder_path, map_location='cpu')\n",
        "depth_decoder.load_state_dict(loaded_dict)\n",
        "\n",
        "loaded_dict = torch.load(pose_encoder_path, map_location=device)\n",
        "pose_encoder.load_state_dict(loaded_dict)\n",
        "\n",
        "loaded_dict = torch.load(pose_decoder_path, map_location=device)\n",
        "pose_decoder.load_state_dict(loaded_dict)"
      ],
      "metadata": {
        "colab": {
          "base_uri": "https://localhost:8080/",
          "height": 373,
          "referenced_widgets": [
            "bf9477e2e2d74a3186748444c98e4237",
            "d7db519a095b491b81daa28b119ebd8a",
            "d3ae14dfa3604378a2b890fe52c77e87",
            "1695760ef18d43c3b15b565265f8ffbc",
            "9b824e2c8d6348299601c0d49275f90c",
            "05f7273d311c47dfbae65bacdfc7a94b",
            "b0b1814c02de41d3bc80342da3274252",
            "488ed06fd3584ec69ff0ee4d27f39237",
            "85119441f88c49d3ab3b7e7c26994f44",
            "d6cdb4430a5d47c5bb23d3fa2cfca8aa",
            "85c032fee0d14a52b0de31457016650c"
          ]
        },
        "id": "GIKbjcn6AjWv",
        "outputId": "9311f1ae-6878-4602-f1b4-1825a9c83a97"
      },
      "execution_count": 6,
      "outputs": [
        {
          "output_type": "stream",
          "name": "stdout",
          "text": [
            "Cloning into 'monodepth2'...\n",
            "remote: Enumerating objects: 180, done.\u001b[K\n",
            "remote: Total 180 (delta 0), reused 0 (delta 0), pack-reused 180\u001b[K\n",
            "Receiving objects: 100% (180/180), 10.27 MiB | 4.61 MiB/s, done.\n",
            "Resolving deltas: 100% (89/89), done.\n",
            "/content/monodepth2\n",
            "-> Downloading pretrained model to models/mono_640x192.zip\n",
            "   Unzipping model...\n",
            "   Model unzipped to models/mono_640x192\n"
          ]
        },
        {
          "output_type": "stream",
          "name": "stderr",
          "text": [
            "/usr/local/lib/python3.7/dist-packages/torchvision/models/_utils.py:136: UserWarning: Using 'weights' as positional parameter(s) is deprecated since 0.13 and will be removed in 0.15. Please use keyword parameter(s) instead.\n",
            "  f\"Using {sequence_to_str(tuple(keyword_only_kwargs.keys()), separate_last='and ')} as positional \"\n",
            "/usr/local/lib/python3.7/dist-packages/torchvision/models/_utils.py:223: UserWarning: Arguments other than a weight enum or `None` for 'weights' are deprecated since 0.13 and will be removed in 0.15. The current behavior is equivalent to passing `weights=None`.\n",
            "  warnings.warn(msg)\n",
            "/usr/local/lib/python3.7/dist-packages/torchvision/models/_utils.py:253: UserWarning: Accessing the model URLs via the internal dictionary of the module is deprecated since 0.13 and will be removed in 0.15. Please access them via the appropriate Weights Enum instead.\n",
            "  \"Accessing the model URLs via the internal dictionary of the module is deprecated since 0.13 and will \"\n",
            "Downloading: \"https://download.pytorch.org/models/resnet18-f37072fd.pth\" to /root/.cache/torch/hub/checkpoints/resnet18-f37072fd.pth\n"
          ]
        },
        {
          "output_type": "display_data",
          "data": {
            "text/plain": [
              "  0%|          | 0.00/44.7M [00:00<?, ?B/s]"
            ],
            "application/vnd.jupyter.widget-view+json": {
              "version_major": 2,
              "version_minor": 0,
              "model_id": "bf9477e2e2d74a3186748444c98e4237"
            }
          },
          "metadata": {}
        },
        {
          "output_type": "execute_result",
          "data": {
            "text/plain": [
              "<All keys matched successfully>"
            ]
          },
          "metadata": {},
          "execution_count": 6
        }
      ]
    },
    {
      "cell_type": "markdown",
      "source": [
        "#Retrain"
      ],
      "metadata": {
        "id": "EJuEwlq__Btj"
      }
    },
    {
      "cell_type": "markdown",
      "source": [
        "mse (l2) = $\\frac{1}{n}\\sum_{i=1}^{n}(pred_i - gt_i)^2$\n",
        "\n",
        "mae (l1) = $\\left\\|pred_i - gt_i\\right\\| = \\frac{1}{n}\\sum_{i=1}^{n}|pred_i - gt_i|$\n",
        "\n",
        "sq rel =  $\\frac{1}{n}\\sum_{i=1}^{n}(pred_i - gt_i)^2/gt_i$\n",
        "\n",
        "abs rel = $\\frac{1}{n}\\sum_{i=1}^{n}|pred_i - gt_i|/gt_i$\n",
        "\n",
        "rmse = $\\sqrt{\\frac{1}{n}\\sum_{i=1}^{n}(pred_i - gt_i)^2}$\n",
        "\n",
        "rmse log = $\\sqrt{\\frac{1}{n}\\sum_{i=1}^{n}(\\log pred_i - \\log gt_i)^2}$\n",
        "\n",
        "appearance loss: $C_{a p}=\\frac{1}{n} \\sum_{i=1}^{n} \\alpha \\frac{1-\\operatorname{SSIM}(pred_i - gt_i)}{2}+(1-\\alpha)\\left\\|pred_i - gt_i\\right\\|$ $, \\alpha$ was set to 0.85\n",
        "\n",
        "disparity smoothness loss: $C_{d s}=\\frac{1}{n} \\sum_{i}^{n}(\\partial_{x} pred_{i}) e^{-\\left\\|\\partial_{x} Image\\right\\|}+(\\partial_{y} pred_{i}) e^{-\\left\\|\\partial_{y} Image\\right\\|}$ "
      ],
      "metadata": {
        "id": "JkvKxAzuv_VL"
      }
    },
    {
      "cell_type": "code",
      "source": [
        "!mkdir weights"
      ],
      "metadata": {
        "id": "HFZaEzeCiPWy"
      },
      "execution_count": 16,
      "outputs": []
    },
    {
      "cell_type": "code",
      "source": [
        "os.chdir('/content')\n",
        "%cd content\n",
        "import torch\n",
        "import torch.optim as optim\n",
        "from torch import nn\n",
        "from torch.utils.data import Dataset, DataLoader\n",
        "from torchmetrics.functional import mean_absolute_error\n",
        "\n",
        "import torchvision.transforms as transforms\n",
        "from PIL import Image\n",
        "import os\n",
        "\n",
        "\n",
        "import math\n",
        "import torch.nn.functional as F\n",
        "import numpy as np\n",
        "from torchmetrics import StructuralSimilarityIndexMeasure\n",
        "\n",
        "device = 'cuda' if torch.cuda.is_available() else 'cpu'\n",
        "\n",
        "\n",
        "class SSIM_Loss_Lib(nn.Module):\n",
        "    def __init__(self, data_range=1):\n",
        "        super().__init__()\n",
        "        self.ssim = StructuralSimilarityIndexMeasure(data_range=data_range)\n",
        "\n",
        "    def forward(self, img1, img2):\n",
        "        return 1 - self.ssim(img1, img2)\n",
        "\n",
        "\n",
        "\n",
        "class Photometric_Loss(nn.Module):\n",
        "    def __init__(self):\n",
        "        super().__init__()\n",
        "\n",
        "    def SSIM(self, x, y):\n",
        "      C1 = 0.01 ** 2\n",
        "      C2 = 0.03 ** 2\n",
        "\n",
        "      mu_x = nn.AvgPool2d(3, 1)(x)\n",
        "      mu_y = nn.AvgPool2d(3, 1)(y)\n",
        "      mu_x_mu_y = mu_x * mu_y\n",
        "      mu_x_sq = mu_x.pow(2)\n",
        "      mu_y_sq = mu_y.pow(2)\n",
        "\n",
        "      sigma_x = nn.AvgPool2d(3, 1)(x * x) - mu_x_sq\n",
        "      sigma_y = nn.AvgPool2d(3, 1)(y * y) - mu_y_sq\n",
        "      sigma_xy = nn.AvgPool2d(3, 1)(x * y) - mu_x_mu_y\n",
        "\n",
        "      SSIM_n = (2 * mu_x_mu_y + C1) * (2 * sigma_xy + C2)\n",
        "      SSIM_d = (mu_x_sq + mu_y_sq + C1) * (sigma_x + sigma_y + C2)\n",
        "      SSIM = SSIM_n / SSIM_d\n",
        "\n",
        "      return torch.clamp((1 - SSIM) / 2, 0, 1)\n",
        "\n",
        "\n",
        "    def forward(self, img1, img2, img = None):#output label image\n",
        "      ssim = torch.mean(self.SSIM(img1,img2))\n",
        "      l1 = torch.mean(torch.abs(img1 - img2))\n",
        "      photometric_loss = 0.85 * ssim+ 0.15 * l1\n",
        "      return photometric_loss\n",
        "\n",
        "\n",
        "class Disparity_Smoothness(Photometric_Loss):\n",
        "  def __init__(self):\n",
        "      super(Photometric_Loss, self).__init__()  \n",
        "\n",
        "  def gradient_x(self, img):\n",
        "      # Pad input to keep output size consistent\n",
        "      img = F.pad(img, (0, 1, 0, 0), mode=\"replicate\")\n",
        "      gx = img[:, :, :, :-1] - img[:, :, :, 1:]  # NCHW\n",
        "      return gx\n",
        "\n",
        "  def gradient_y(self, img):\n",
        "      # Pad input to keep output size consistent\n",
        "      img = F.pad(img, (0, 0, 0, 1), mode=\"replicate\")\n",
        "      gy = img[:, :, :-1, :] - img[:, :, 1:, :]  # NCHW\n",
        "      return gy\n",
        "\n",
        "  def disp_smoothness(self, depth, img):\n",
        "      disp_gradients_x = self.gradient_x(depth)  # NCHW\n",
        "      disp_gradients_y = self.gradient_y(depth)  # NCHW\n",
        "\n",
        "      image_gradients_x = self.gradient_x(img)  # NCHW\n",
        "      image_gradients_y = self.gradient_y(img)  # NCHW\n",
        "\n",
        "      weights_x = torch.exp(-torch.mean(torch.abs(image_gradients_x), 1,keepdim=True))\n",
        "      weights_y = torch.exp(-torch.mean(torch.abs(image_gradients_y), 1,keepdim=True))\n",
        "\n",
        "      smoothness_x = disp_gradients_x * weights_x\n",
        "      smoothness_y = disp_gradients_y * weights_y#[1,1,1280,1024]\n",
        "\n",
        "      smoothness = torch.mean(smoothness_x) + torch.mean(smoothness_y)\n",
        "      return smoothness\n",
        "\n",
        "  def forward(self, img1, img2, img):#output label image\n",
        "      ssim = torch.mean(self.SSIM(img1,img2))\n",
        "      l1 = torch.mean(torch.abs(img1 - img2))\n",
        "      gradient = self.disp_smoothness(img1, img)\n",
        "      photometric_loss = 0.85 * ssim+ 0.15 * l1 +0.1 * gradient\n",
        "      return photometric_loss\n",
        "\n",
        "def train(model, trainloader, optimizer, criterion):\n",
        "    model[0].train()\n",
        "    model[1].train()\n",
        "    for i_batch, s_batch in enumerate(trainloader):\n",
        "        image_batch, label_batch = s_batch[0].to(device), s_batch[1].to(device)\n",
        "        features = model[0](image_batch)\n",
        "        outputs = model[1](features)\n",
        "        #outputs = model(image_batch)\n",
        "        if isinstance(criterion,Disparity_Smoothness):\n",
        "          loss = criterion(outputs[('disp', 0)], label_batch, image_batch)\n",
        "          #loss = criterion(outputs, label_batch, image_batch)\n",
        "        else:  \n",
        "          #loss = criterion(outputs, label_batch, image_batch)\n",
        "          loss = criterion(outputs[('disp', 0)], label_batch)#[batch_size, 1, 256, 320]\n",
        "        optimizer.zero_grad()\n",
        "        loss.backward()\n",
        "        optimizer.step()\n",
        "\n",
        "def test(model, testloader):\n",
        "    model[0].eval()\n",
        "    model[0].eval()\n",
        "    ssim = StructuralSimilarityIndexMeasure(data_range=1)\n",
        "    mse_all = []\n",
        "    ssim_all = []\n",
        "    rmse_all = []\n",
        "    rmselog_all = []\n",
        "    mae_rel_all = []\n",
        "    mse_rel_all = []\n",
        "    a1 = []\n",
        "    a2 = []\n",
        "    a3 = []\n",
        "    with torch.no_grad():\n",
        "        for i_batch, s_batch in enumerate(testloader):\n",
        "            image_batch, label_batch = s_batch[0].to(device), s_batch[1].to(device)\n",
        "            features = model[0](image_batch)\n",
        "            outputs = model[1](features)\n",
        "            #outputs = model(image_batch)\n",
        "            outputs = outputs[('disp', 0)]\n",
        "            outputs = nn.Sigmoid()(outputs)\n",
        "            mse = nn.MSELoss()(outputs, label_batch)\n",
        "            mse_all.append(mse.item())\n",
        "            ssim_all.append(ssim(outputs.detach().cpu(), label_batch.detach().cpu()).item())\n",
        "            rmse_all.append(math.sqrt(mse.item()))\n",
        "            rmselog_all.append(math.sqrt(nn.MSELoss()(torch.log(outputs), torch.log(label_batch)).item()))\n",
        "            mse_rel_all.append(mse.item() / label_batch[i_batch][0].detach().cpu().numpy())\n",
        "            mae_rel_all.append(nn.L1Loss()(outputs, label_batch).item() / label_batch[i_batch][0].detach().cpu().numpy())\n",
        "            thresh = np.maximum((label_batch / outputs).detach().cpu(), (outputs / label_batch).detach().cpu())\n",
        "            # a1.append(thresh < 1.25     ).mean()\n",
        "            # a2.append(thresh < 1.25 ** 2).mean()\n",
        "            # a3.append(thresh < 1.25 ** 3).mean()\n",
        "        return np.mean(mse_all), np.mean(ssim_all), np.mean(rmse_all), np.mean(rmselog_all), np.mean(mse_rel_all),  np.mean(mae_rel_all[0])\n",
        "\n",
        "\n",
        "def main():\n",
        "    seed_everything()\n",
        "    args = get_args()\n",
        "    # #os.chdir('SCARED')\n",
        "    # path_depth_all = glob('content/SCARED/*.tiff')\n",
        "    # path_depth_train = path_depth_all[:50]\n",
        "    # path_depth_valid = path_depth_all[50:]\n",
        "\n",
        "    # dataset_train = MyDataset(path_depth=path_depth_train, transform=transform_all)\n",
        "    # dataset_valid = MyDataset(path_depth=path_depth_valid, transform=transform_all)\n",
        "\n",
        "    # train_loader = DataLoader(dataset_train, batch_size=128, shuffle=True, num_workers=2)\n",
        "    # valid_loader = DataLoader(dataset_valid, batch_size=128, shuffle=False, num_workers=2)\n",
        "\n",
        "    print(\"Sample size- Train:%d, Valid: %d\"%(len(dataset_train), len(dataset_valid)))\n",
        "    #github: https://github.com/mateuszbuda/brain-segmentation-pytorch/blob/master/unet.py\n",
        "    # model = torch.hub.load('mateuszbuda/brain-segmentation-pytorch', 'unet',\n",
        "    #         in_channels=3, out_channels=1, init_features=32, pretrained=False)\n",
        "    # model.to(device)\n",
        "    encoder.to(device)\n",
        "    depth_decoder.to(device)\n",
        "    models = []\n",
        "    models.append(encoder)\n",
        "    models.append(depth_decoder)\n",
        "\n",
        "\n",
        "    args.criterion = 'l1'\n",
        "\n",
        "    if args.criterion == 'mse':        \n",
        "        criterion = nn.MSELoss().to(device)\n",
        "    elif args.criterion == 'l1':        \n",
        "        criterion = nn.L1Loss().to(device)\n",
        "    elif args.criterion == 'ssim':        \n",
        "        criterion = SSIM_Loss_Lib(data_range=1.0).to(device)\n",
        "    elif args.criterion == 'bce':\n",
        "        criterion = nn.BCELoss().to(device)\n",
        "    elif args.criterion == 'photometric':\n",
        "        criterion = Photometric_Loss().to(device)\n",
        "    elif args.criterion == 'smoothness':\n",
        "        criterion = Disparity_Smoothness().to(device)\n",
        "    \n",
        "    parameters = []\n",
        "    parameters += list(models[0].parameters())\n",
        "    parameters += list(models[1].parameters())\n",
        "    optimizer = optim.AdamW(parameters, lr=1e-3)\n",
        "    #optimizer = optim.AdamW(model.parameters(), lr=args.lr)\n",
        "    #optimizer = optim.SGD(model.parameters(), lr=args.lr, momentum=0.9, weight_decay=0.0001)\n",
        "    best_mse, best_ssim, best_rmse, best_rmselog, best_mse_rel, best_mae_rel, best_epoch = np.inf, 0, np.inf,np.inf,np.inf,np.inf,0\n",
        "  \n",
        "    for epoch_num in range(args.max_epochs):\n",
        "        # if self.args.adjust_lr:\n",
        "        #     adjust_learning_rate(self.optimizer, epoch,\n",
        "        #                              self.args.learning_rate)\n",
        "        #train(model, train_loader, optimizer, criterion)\n",
        "        #mse, ssim, rmse, rmselog, mse_rel, mae_rel = test(model, valid_loader)\n",
        "        train(models, train_loader, optimizer, criterion)\n",
        "        mse, ssim, rmse, rmselog, mse_rel, mae_rel = test(models, valid_loader)\n",
        "        if mse < best_mse:\n",
        "            best_mse = mse\n",
        "            #best_ssim = ssim\n",
        "            best_epoch = epoch_num\n",
        "            torch.save(models[0].state_dict(), os.path.join(\"weights\", \"{}_{}_{}.pth\".format(\"encoder\", args.criterion, best_epoch)))\n",
        "            torch.save(models[1].state_dict(), os.path.join(\"weights\", \"{}_{}_{}.pth\".format(\"decoder\", args.criterion, best_epoch)))\n",
        "        # if ssim > best_ssim:\n",
        "        #     best_ssim = ssim\n",
        "        #     best_epoch = epoch_num\n",
        "     \n",
        "        # if rmse < best_rmse:\n",
        "        #     best_rmse = rmse\n",
        "        #     best_epoch = epoch_num\n",
        "        \n",
        "        # if rmselog < best_rmselog:\n",
        "        #     best_rmselog = rmselog\n",
        "        #     best_epoch = epoch_num\n",
        "\n",
        "        # if mse_rel < best_mse_rel:\n",
        "        #     best_mse_rel = mse_rel\n",
        "        #     best_epoch = epoch_num\n",
        "        # if mae_rel < best_mae_rel:\n",
        "        #     best_mae_rel = mae_rel\n",
        "        #     best_epoch = epoch_num\n",
        "\n",
        "           \n",
        "        # print('Epoch:{}, Curr MSE(L2):{:.6f}, Curr SSIM:{:.6f}, Best MSE(L2):{:.6f}, Best SSIM:{:.6f}, Best Epoch:{}, Criterion:{}, Lr:{}'.\n",
        "        #         format(epoch_num, mse, ssim, best_mse, best_ssim, best_epoch, args.criterion, optimizer.param_groups[0]['lr']))\n",
        "        # print('Epoch:{}, Curr MSE(L2):{:.4f}, Best RMSE:{:.4f}, RMSElog:{:.4f}, sq rel:{:.4f}, abs rel:{:.4f}, MSE(L2):{:.4f}, SSIM:{:.4f},  Best Epoch:{}, Criterion:{}, Lr:{}'.\n",
        "        #         format(epoch_num, mse, best_rmse, best_rmselog, best_mse_rel, best_mae_rel, best_mse, best_ssim,  best_epoch, args.criterion, optimizer.param_groups[0]['lr']))\n",
        "        print(mse, best_mse, best_epoch)\n",
        "    weights = {}\n",
        "    weights[\"encoder\"] = []\n",
        "    weights[\"decoder\"] = []\n",
        "    weights[\"encoder\"].append(\"{}_{}_{:03d}.pth\".format(\"encoder\", args.criterion, best_epoch))\n",
        "    weights[\"decoder\"].append(\"{}_{}_{:03d}.pth\".format(\"decoder\", args.criterion, best_epoch))\n",
        "if __name__ == \"__main__\":\n",
        "    main()"
      ],
      "metadata": {
        "id": "E7VfSQ8d_EbY",
        "outputId": "6ebd9614-9072-4ffa-83e7-7ff133987562",
        "colab": {
          "base_uri": "https://localhost:8080/"
        }
      },
      "execution_count": null,
      "outputs": [
        {
          "output_type": "stream",
          "name": "stdout",
          "text": [
            "[Errno 2] No such file or directory: 'content'\n",
            "/content/monodepth2\n",
            "Sample size- Train:50, Valid: 20\n",
            "0.1318276822566986 0.1318276822566986 0\n",
            "0.1318276822566986 0.1318276822566986 0\n",
            "0.1318276822566986 0.1318276822566986 0\n",
            "0.1318276822566986 0.1318276822566986 0\n",
            "0.1318276822566986 0.1318276822566986 0\n",
            "0.1318276822566986 0.1318276822566986 0\n",
            "0.1318276822566986 0.1318276822566986 0\n",
            "0.1318276822566986 0.1318276822566986 0\n",
            "0.1318276822566986 0.1318276822566986 0\n",
            "0.1318276822566986 0.1318276822566986 0\n",
            "0.1318276822566986 0.1318276822566986 0\n",
            "0.1318276822566986 0.1318276822566986 0\n",
            "0.1318276822566986 0.1318276822566986 0\n",
            "0.1318276822566986 0.1318276822566986 0\n",
            "0.1318276822566986 0.1318276822566986 0\n",
            "0.1318276822566986 0.1318276822566986 0\n",
            "0.1318276822566986 0.1318276822566986 0\n",
            "0.1318276822566986 0.1318276822566986 0\n",
            "0.1318276822566986 0.1318276822566986 0\n",
            "0.1318276822566986 0.1318276822566986 0\n",
            "0.1318276822566986 0.1318276822566986 0\n",
            "0.1318276822566986 0.1318276822566986 0\n",
            "0.1318276822566986 0.1318276822566986 0\n",
            "0.1318276822566986 0.1318276822566986 0\n",
            "0.1318276822566986 0.1318276822566986 0\n"
          ]
        }
      ]
    },
    {
      "cell_type": "markdown",
      "source": [
        "# comparative visulization"
      ],
      "metadata": {
        "id": "gy78vrodd3qC"
      }
    },
    {
      "cell_type": "code",
      "source": [
        "import gdown\n",
        "url1 = 'https://drive.google.com/uc?id=1eOcmOO0osrOwwoxqZ9ujdEFhQB1FL7Hs'\n",
        "gdown.download(url1,'bce_epoch110',quiet=True)\n",
        "url2 = 'https://drive.google.com/uc?id=1_8XF5Moz-CCCvOiWfypUwjpFe-I8zWr6'\n",
        "gdown.download(url2,'mae_epoch108',quiet=True)\n",
        "url3 = 'https://drive.google.com/uc?id=1vTKtu5OWdARAWOENgIW4o6AjGYrkZOSD'\n",
        "gdown.download(url3,'mse_epoch119',quiet=True)\n",
        "url4 = 'https://drive.google.com/uc?id=1fNyyPYJ7SVwzAXTEGRQvw962pJYF8AI8'\n",
        "gdown.download(url4,'ssim_epoch118',quiet=True)\n",
        "url5 = 'https://drive.google.com/uc?id=1Dkdk2jRA3fBR92o9mIjP7IzotDq5Q7gW'\n",
        "gdown.download(url5,'photo_epoch111',quiet=True)\n",
        "\n",
        "weights = ['bce_epoch110', 'mae_epoch108', 'mse_epoch119', 'ssim_epoch118','photo_epoch111']\n",
        "\n",
        "(input, label) = dataset_valid[42]\n",
        "# model = torch.hub.load('mateuszbuda/brain-segmentation-pytorch', 'unet',\n",
        "#             in_channels=3, out_channels=1, init_features=32, pretrained=False)\n",
        "encoder\n",
        "for weight in weights:\n",
        "  model.load_state_dict(torch.load('bce_epoch110'))\n",
        "  model.cuda()\n",
        "  feature = encoder(input[None].cuda())\n",
        "  prediction = decoder(feature)\n"
      ],
      "metadata": {
        "id": "9lOCphgUaMBv"
      },
      "execution_count": null,
      "outputs": []
    },
    {
      "cell_type": "code",
      "source": [
        "plt.imshow(input.permute(1,2,0)), plt.title('input')\n",
        "plt.show()\n",
        "plt.imshow(label[0], cmap='gray'), plt.title('ground truth depth')\n",
        "plt.show()\n",
        "plt.plot(),plt.imshow(prediction[0][0].detach().cpu(), cmap='gray'), plt.title('bce epoch 110')\n",
        "plt.show()\n",
        "plt.plot(), plt.imshow(prediction2[0][0].detach().cpu(),cmap='gray'), plt.title('mae epoch 108')\n",
        "plt.show()\n",
        "plt.plot(), plt.imshow(prediction3[0][0].detach().cpu(),cmap='gray'), plt.title('mse epoch 119')\n",
        "plt.show()\n",
        "plt.plot(), plt.imshow(prediction4[0][0].detach().cpu(),cmap='gray'), plt.title('ssim epoch 118')\n",
        "plt.show()\n",
        "plt.plot(), plt.imshow(prediction5[0][0].detach().cpu(),cmap='gray'), plt.title('photometric epoch 111')\n",
        "plt.show()"
      ],
      "metadata": {
        "id": "QR7guTRdyBr3"
      },
      "execution_count": null,
      "outputs": []
    },
    {
      "cell_type": "markdown",
      "source": [
        "## reconstruction visulization"
      ],
      "metadata": {
        "id": "tAxCZNZUYrJs"
      }
    },
    {
      "cell_type": "code",
      "source": [
        "class BackprojectDepth(nn.Module):\n",
        "    \"\"\"Layer to transform a depth image into a point cloud\n",
        "    \"\"\"\n",
        "    def __init__(self, batch_size, height, width):\n",
        "        super(BackprojectDepth, self).__init__()\n",
        "\n",
        "        self.batch_size = batch_size\n",
        "        self.height = height\n",
        "        self.width = width\n",
        "\n",
        "        meshgrid = np.meshgrid(range(self.width), range(self.height), indexing='xy')#cartesiam coordinates\n",
        "        self.id_coords = np.stack(meshgrid, axis=0).astype(np.float32)\n",
        "        self.id_coords = nn.Parameter(torch.from_numpy(self.id_coords),\n",
        "                                      requires_grad=False)#learnable parameters\n",
        "\n",
        "        self.ones = nn.Parameter(torch.ones(self.batch_size, 1, self.height * self.width),\n",
        "                                 requires_grad=False)\n",
        "\n",
        "        self.pix_coords = torch.unsqueeze(torch.stack(\n",
        "            [self.id_coords[0].view(-1), self.id_coords[1].view(-1)], 0), 0)\n",
        "        self.pix_coords = self.pix_coords.repeat(batch_size, 1, 1)\n",
        "        self.pix_coords = nn.Parameter(torch.cat([self.pix_coords, self.ones], 1),\n",
        "                                       requires_grad=False)\n",
        "\n",
        "    def forward(self, depth, inv_K):\n",
        "        print('-------------pixel -> camera -> depth---------------')\n",
        "        cam_points = torch.matmul(inv_K[:, :3, :3], self.pix_coords)#[3,3][] #drop last colomn and last row\n",
        "        print('pixel: ', pix_coords.size(), 'k_inv: ', inv_K[:, :3, :3].size(),'cam: ',cam_points.size(), 'depth:',depth.view(self.batch_size, 1, -1).size())\n",
        "        cam_points = depth.view(self.batch_size, 1, -1) * cam_points #camera multiply depth\n",
        "        cam_points = torch.cat([cam_points, self.ones], 1) \n",
        "\n",
        "        return cam_points\n",
        "\n",
        "\n",
        "class Project3D(nn.Module):\n",
        "    \"\"\"Layer which projects 3D points into a camera with intrinsics K and at position T\n",
        "    \"\"\"\n",
        "    def __init__(self, batch_size, height, width, eps=1e-7):\n",
        "        super(Project3D, self).__init__()\n",
        "\n",
        "        self.batch_size = batch_size\n",
        "        self.height = height\n",
        "        self.width = width\n",
        "        self.eps = eps\n",
        "\n",
        "    def forward(self, points, K, T):\n",
        "        P = torch.matmul(K, T)[:, :3, :] #K multiply T\n",
        "        print('-----------world -> camera -> pixel-------------')\n",
        "        cam_points = torch.matmul(P, points) #K multiply T multiply points, from world to camera then to image\n",
        "        print('KT: ', P.size(), 'point cloud: ', points.size(), '3d to 2d: ', cam_points.size())\n",
        "        #cam_points to pixel coords: torch.Size([1, 3, 49152])#torch.Size([1, 2, 49152])#torch.Size([1, 1, 49152])\n",
        "        pix_coords = cam_points[:, :2, :] / (cam_points[:, 2, :].unsqueeze(1) + self.eps)#+ self.eps barely no change\n",
        "        print('pixel coordinate: ', cam_points.shape)\n",
        "        pix_coords = pix_coords.view(self.batch_size, 2, self.height, self.width)\n",
        "        print('pix coordinate view batch, 2, h, w', pix_coords.shape)\n",
        "        pix_coords = pix_coords.permute(0, 2, 3, 1)#batch, h, w, 2\n",
        "        pix_coords[..., 0] /= self.width - 1 #a[...,0]==a[:,:,0])\n",
        "        pix_coords[..., 1] /= self.height - 1 # \n",
        "        pix_coords = (pix_coords - 0.5) * 2\n",
        "        return pix_coords\n",
        "\n",
        "def disp_to_depth(disp, min_depth, max_depth):\n",
        "    \"\"\"Convert network's sigmoid output into depth prediction\n",
        "    The formula for this conversion is given in the 'additional considerations'\n",
        "    section of the paper.\n",
        "    \"\"\"\n",
        "    min_disp = 1 / max_depth\n",
        "    max_disp = 1 / min_depth\n",
        "    scaled_disp = min_disp + (max_disp - min_disp) * disp\n",
        "    depth = 1 / scaled_disp\n",
        "    return scaled_disp, depth"
      ],
      "metadata": {
        "id": "QCnCXdFYTjQ7"
      },
      "execution_count": null,
      "outputs": []
    },
    {
      "cell_type": "code",
      "source": [
        "backproject_depth = {}\n",
        "project_3d = {}\n",
        "scales=range(4)\n",
        "width = 384\n",
        "height = 128\n",
        "K = np.array([[0.58, 0, 0.5, 0],\n",
        "              [0, 1.92, 0.5, 0],\n",
        "              [0,    0,   1, 0],\n",
        "              [0,    0,   0, 1]], dtype=np.float32)\n",
        "for scale in scales:\n",
        "    h = height // (2 ** scale)\n",
        "    w = width // (2 ** scale)  \n",
        "\n",
        "    backproject_depth[scale] = BackprojectDepth(1, h, w)#batch size\n",
        "    backproject_depth[scale].to(device)\n",
        "\n",
        "    project_3d[scale] = Project3D(1, h, w)\n",
        "    project_3d[scale].to(device)     \n",
        "\n",
        "    K = K.copy()\n",
        "    K[0, :] *= width // (2 ** scale)\n",
        "    K[1, :] *= height // (2 ** scale)\n",
        "\n",
        "    inv_K = np.linalg.pinv(K)\n",
        "    inputs[(\"K\", scale)] = torch.from_numpy(K)\n",
        "    inputs[(\"inv_K\", scale)] = torch.from_numpy(inv_K)\n",
        "\n",
        "#print(inputs[(\"K\", 1)].size())#torch.Size([4, 4])\n",
        "#print(\"K matrix: \", inputs[(\"K\", 1)][None][:, :3, :3])#drop last column and last row\n",
        "# tensor([[4.2762e+04, 0.0000e+00, 3.6864e+04, 0.0000e+00],\n",
        "#         [0.0000e+00, 1.5729e+04, 4.0960e+03, 0.0000e+00],\n",
        "#         [0.0000e+00, 0.0000e+00, 1.0000e+00, 0.0000e+00],\n",
        "#         [0.0000e+00, 0.0000e+00, 0.0000e+00, 1.0000e+00]])\n",
        "print('intrinsic parameter: ', inputs[(\"inv_K\", 0)][None])#torch.Size([4, 4])\n",
        "print('intrinsic parameter: ', inputs[(\"inv_K\", 0)][None][:, :3, :3])#torch.Size([4, 4])\n",
        "\n",
        "\n",
        "#generate_images_pred(inputs, outputs) #outputs have {(\"disp\"):, (\"axisangle\"):, (\"translation\"):}\n",
        "\n",
        "scale = 0\n",
        "disp = outputs[(\"disp\", scale)]\n",
        "source_scale = scale\n",
        "_, depth = disp_to_depth(disp, 0.1, 100) \n",
        "print('disp: ',disp.size(),\"depth: \", depth.size())#torch.Size([1, 1, 128, 384])\n",
        "outputs[(\"depth\", 0, scale)] = depth######\n",
        "\n",
        "for i, frame_id in enumerate(args.frame_ids[1:]):\n",
        "\n",
        "    T = outputs[(\"cam_T_cam\", 0, frame_id)] \n",
        "    axisangle = outputs[(\"axisangle\", 0, frame_id)]\n",
        "    translation = outputs[(\"translation\", 0, frame_id)]\n",
        "    inv_depth = 1 / depth\n",
        "    mean_inv_depth = inv_depth.mean(3, True).mean(2, True)\n",
        "    cam_points = backproject_depth[source_scale](\n",
        "        depth, inputs[(\"inv_K\", source_scale)][None])   # 2d depth to 3d point cloud     \n",
        "    print('3d: ', cam_points.size())\n",
        "    pix_coords = project_3d[source_scale](\n",
        "        cam_points, inputs[(\"K\", source_scale)][None], T)# 3d point cloud to 2d\n",
        "    print('2d: ', pix_coords.size())\n",
        "    outputs[(\"sample\", frame_id, scale)] = pix_coords #2d reconstruction\n",
        "    \n",
        "    outputs[(\"color\", frame_id, scale)] = F.grid_sample(\n",
        "        inputs[(\"color\", frame_id, source_scale)][None],\n",
        "        outputs[(\"sample\", frame_id, scale)],\n",
        "        padding_mode=\"border\") #warping\n",
        "    ##########input N,C,H_in,W_in , grid N,H_out,W_out,2\n",
        "print('output: ', outputs[(\"sample\", frame_id, scale)].size())\n",
        "plt.imshow(outputs[(\"color\", frame_id, scale)].squeeze().permute(1,2,0).detach().numpy()),plt.show()\n",
        "plt.imshow(inputs[(\"color\", frame_id, scale)].squeeze().permute(1,2,0).detach().numpy())\n",
        "\n"
      ],
      "metadata": {
        "id": "pwb9qCKmglFI"
      },
      "execution_count": null,
      "outputs": []
    }
  ]
}